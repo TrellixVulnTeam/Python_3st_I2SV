{
 "cells": [
  {
   "cell_type": "code",
   "execution_count": null,
   "metadata": {},
   "outputs": [],
   "source": [
    "import cv2, os\n",
    "import numpy as np\n",
    "\n",
    "img_path = './img/pexels-photo-276690.jpg'\n",
    "filename, ext = os.path.splitext(os.path.basename(img_path))\n",
    "ori_img = cv2.imread(img_path)\n",
    "\n",
    "src = []\n",
    "\n",
    "# mouse callback handler\n",
    "def mouse_handler(event, x, y, flags, param):\n",
    "  if event == cv2.EVENT_LBUTTONUP:\n",
    "    img = ori_img.copy()\n",
    "\n",
    "    src.append([x, y])\n",
    "\n",
    "    for xx, yy in src:\n",
    "      cv2.circle(img, center=(xx, yy), radius=5, color=(0, 255, 0), thickness=-1, lineType=cv2.LINE_AA)\n",
    "\n",
    "    cv2.imshow('img', img)\n",
    "\n",
    "    # perspective transform\n",
    "    if len(src) == 4:\n",
    "      src_np = np.array(src, dtype=np.float32)\n",
    "\n",
    "      width = max(np.linalg.norm(src_np[0] - src_np[1]), np.linalg.norm(src_np[2] - src_np[3]))\n",
    "      height = max(np.linalg.norm(src_np[0] - src_np[3]), np.linalg.norm(src_np[1] - src_np[2]))\n",
    "\n",
    "      dst_np = np.array([\n",
    "        [0, 0],\n",
    "        [width, 0],\n",
    "        [width, height],\n",
    "        [0, height]\n",
    "      ], dtype=np.float32)\n",
    "\n",
    "      M = cv2.getPerspectiveTransform(src=src_np, dst=dst_np)\n",
    "      result = cv2.warpPerspective(ori_img, M=M, dsize=(width, height))\n",
    "\n",
    "      cv2.imshow('result', result)\n",
    "      cv2.imwrite('./result/%s_result%s' % (filename, ext), result)\n",
    "\n",
    "# main\n",
    "cv2.namedWindow('img')\n",
    "cv2.setMouseCallback('img', mouse_handler)\n",
    "\n",
    "cv2.imshow('img', ori_img)\n",
    "cv2.waitKey(0)"
   ]
  }
 ],
 "metadata": {
  "kernelspec": {
   "display_name": "Python 3",
   "language": "python",
   "name": "python3"
  },
  "language_info": {
   "codemirror_mode": {
    "name": "ipython",
    "version": 3
   },
   "file_extension": ".py",
   "mimetype": "text/x-python",
   "name": "python",
   "nbconvert_exporter": "python",
   "pygments_lexer": "ipython3",
   "version": "3.7.3"
  }
 },
 "nbformat": 4,
 "nbformat_minor": 2
}
