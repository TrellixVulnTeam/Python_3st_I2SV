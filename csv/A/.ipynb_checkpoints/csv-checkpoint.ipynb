{
 "cells": [
  {
   "cell_type": "code",
   "execution_count": 1,
   "metadata": {},
   "outputs": [
    {
     "name": "stdout",
     "output_type": "stream",
     "text": [
      "(2109, 16)\n",
      "(1772, 2)\n"
     ]
    }
   ],
   "source": [
    "import pandas as pd\n",
    "import os\n",
    "df = pd.read_excel('../data/data/(A)Export-lst_products_2019-10-16.xlsx')\n",
    "print(df.shape)\n",
    "df2 = df.iloc[:,:2]\n",
    "df2 = df2.drop_duplicates('Product', keep='last')\n",
    "print(df2.shape)\n",
    "drug_index=df2.iloc[:,0]"
   ]
  },
  {
   "cell_type": "code",
   "execution_count": 15,
   "metadata": {},
   "outputs": [],
   "source": [
    "import time"
   ]
  },
  {
   "cell_type": "code",
   "execution_count": null,
   "metadata": {},
   "outputs": [
    {
     "data": {
      "application/vnd.jupyter.widget-view+json": {
       "model_id": "90039a28a3ac4ae6aefdf7387890519b",
       "version_major": 2,
       "version_minor": 0
      },
      "text/plain": [
       "HBox(children=(IntProgress(value=0, max=1772), HTML(value='')))"
      ]
     },
     "metadata": {},
     "output_type": "display_data"
    },
    {
     "name": "stdout",
     "output_type": "stream",
     "text": [
      "200아님\n",
      "181751\n"
     ]
    }
   ],
   "source": [
    "from requests import get  \n",
    "from tqdm import tqdm_notebook\n",
    "import time\n",
    "\n",
    "def download(url, file_name = None):\n",
    "    if not file_name:\n",
    "        file_name = url.split('/')[-1]\n",
    "        \n",
    "    with open('C:/Download/image/(A)/'+file_name, \"wb\") as file:   \n",
    "            response = get(url)\n",
    "            while(response.status_code!=200):\n",
    "                print('200아님')\n",
    "                print(i)\n",
    "                time.sleep(30)\n",
    "                response = get(url)\n",
    "            file.write(response.content)      \n",
    "\n",
    "if __name__ == '__main__':\n",
    "    for i in tqdm_notebook(drug_index):\n",
    "        url = url = \"https://dsld.nlm.nih.gov/dsld/docs/thumbnails/\"+str(i)+\".jpg\"\n",
    "        download(url)"
   ]
  },
  {
   "cell_type": "code",
   "execution_count": 3,
   "metadata": {},
   "outputs": [
    {
     "name": "stdout",
     "output_type": "stream",
     "text": [
      "1773\n"
     ]
    }
   ],
   "source": [
    "import os\n",
    "\n",
    "path = \"C:/Download/image/(A)/\"\n",
    "file_list = os.listdir(path)\n",
    "file_list_py = [file for file in file_list if file.endswith(\".jpg\")]\n",
    "\n",
    "print (len(file_list_py))"
   ]
  }
 ],
 "metadata": {
  "kernelspec": {
   "display_name": "Python 3",
   "language": "python",
   "name": "python3"
  },
  "language_info": {
   "codemirror_mode": {
    "name": "ipython",
    "version": 3
   },
   "file_extension": ".py",
   "mimetype": "text/x-python",
   "name": "python",
   "nbconvert_exporter": "python",
   "pygments_lexer": "ipython3",
   "version": "3.7.3"
  }
 },
 "nbformat": 4,
 "nbformat_minor": 2
}
