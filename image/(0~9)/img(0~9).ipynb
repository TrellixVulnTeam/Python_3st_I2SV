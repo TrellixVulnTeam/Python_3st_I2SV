{
 "cells": [
  {
   "cell_type": "code",
   "execution_count": 1,
   "metadata": {},
   "outputs": [],
   "source": [
    "import pandas as pd\n",
    "import os\n",
    "from tqdm import tqdm_notebook"
   ]
  },
  {
   "cell_type": "code",
   "execution_count": 2,
   "metadata": {},
   "outputs": [],
   "source": [
    "df = pd.read_excel('../../data/(0-9)Export-lst_products_2019-10-16.xlsx')"
   ]
  },
  {
   "cell_type": "code",
   "execution_count": 3,
   "metadata": {},
   "outputs": [
    {
     "data": {
      "text/plain": [
       "(468, 16)"
      ]
     },
     "execution_count": 3,
     "metadata": {},
     "output_type": "execute_result"
    }
   ],
   "source": [
    "df.shape"
   ]
  },
  {
   "cell_type": "code",
   "execution_count": 4,
   "metadata": {},
   "outputs": [],
   "source": [
    "df2 = df.iloc[:,:2]"
   ]
  },
  {
   "cell_type": "code",
   "execution_count": 5,
   "metadata": {},
   "outputs": [],
   "source": [
    "df2 = df2.drop_duplicates('Product', keep='last')"
   ]
  },
  {
   "cell_type": "code",
   "execution_count": 6,
   "metadata": {},
   "outputs": [
    {
     "data": {
      "text/plain": [
       "(382, 2)"
      ]
     },
     "execution_count": 6,
     "metadata": {},
     "output_type": "execute_result"
    }
   ],
   "source": [
    "df2.shape"
   ]
  },
  {
   "cell_type": "code",
   "execution_count": 7,
   "metadata": {},
   "outputs": [],
   "source": [
    "import time"
   ]
  },
  {
   "cell_type": "markdown",
   "metadata": {},
   "source": [
    "from requests import get  \n",
    "\n",
    "def download(url, file_name = None):\n",
    "    if not file_name:\n",
    "        file_name = url.split('/')[-1]\n",
    "    with open(file_name, \"wb\") as file:   \n",
    "        response = get(url)\n",
    "        \n",
    "        while(response.status_code!=200):\n",
    "            time.sleep(30000)\n",
    "            response = get(url)\n",
    "                \n",
    "        file.write(response.content)      \n",
    "\n",
    "for i in drug_index :\n",
    "    if __name__ == '__main__':\n",
    "        url = \"https://dsld.nlm.nih.gov/dsld/docs/thumbnails/\"+str(i)+\".jpg\"\n",
    "        download(url)"
   ]
  },
  {
   "cell_type": "code",
   "execution_count": 7,
   "metadata": {},
   "outputs": [],
   "source": [
    "drug_index = df2.iloc[:,0]"
   ]
  },
  {
   "cell_type": "code",
   "execution_count": 9,
   "metadata": {},
   "outputs": [
    {
     "data": {
      "application/vnd.jupyter.widget-view+json": {
       "model_id": "5e36ff2b0f514589993c530aeffa0b47",
       "version_major": 2,
       "version_minor": 0
      },
      "text/plain": [
       "HBox(children=(IntProgress(value=0, max=382), HTML(value='')))"
      ]
     },
     "metadata": {},
     "output_type": "display_data"
    }
   ],
   "source": [
    "from requests import get  \n",
    "erro_list = []\n",
    "def download(url, file_name = None):\n",
    "    if not file_name:\n",
    "        file_name = url.split('/')[-1]\n",
    "    with open(file_name, \"wb\") as file:   \n",
    "        response = get(url)               \n",
    "        file.write(response.content)      \n",
    "\n",
    "for i in tqdm_notebook(drug_index) :\n",
    "    try :\n",
    "        if __name__ == '__main__':\n",
    "            url = \"https://dsld.nlm.nih.gov/dsld/docs/thumbnails/\"+str(i)+\".jpg\"\n",
    "            download(url)\n",
    "    except KeyError as e: \n",
    "            erro_list.append(e)\n",
    "            print(e)"
   ]
  },
  {
   "cell_type": "code",
   "execution_count": 13,
   "metadata": {},
   "outputs": [
    {
     "data": {
      "text/plain": [
       "0        69786\n",
       "1        69864\n",
       "2        31027\n",
       "3        69867\n",
       "4        31023\n",
       "5        30961\n",
       "6       193310\n",
       "7        31042\n",
       "8        69765\n",
       "9        31019\n",
       "10       69872\n",
       "11      191135\n",
       "12       30998\n",
       "13      191140\n",
       "14       69874\n",
       "15      191146\n",
       "16      191144\n",
       "17      191161\n",
       "18      191151\n",
       "19      193166\n",
       "20       69817\n",
       "21       69856\n",
       "22      193189\n",
       "23      193205\n",
       "24       30973\n",
       "25      193223\n",
       "26       69860\n",
       "27      193289\n",
       "28        5568\n",
       "29      193229\n",
       "         ...  \n",
       "2802     73799\n",
       "2805     73766\n",
       "2807     73819\n",
       "2809     73814\n",
       "2810     73743\n",
       "2811     73734\n",
       "2812     73702\n",
       "2813     73738\n",
       "2814     73739\n",
       "2815     73703\n",
       "2816     73697\n",
       "2818     73842\n",
       "2820     73836\n",
       "2821     14467\n",
       "2822     30866\n",
       "2823     14534\n",
       "2824     14584\n",
       "2825     14588\n",
       "2826     14597\n",
       "2828     14607\n",
       "2829     14613\n",
       "2830     14616\n",
       "2831     14498\n",
       "2832     14522\n",
       "2833     12836\n",
       "2834     12943\n",
       "2835     12843\n",
       "2836     12842\n",
       "2837     14663\n",
       "2838     12827\n",
       "Name: DSLD ID, Length: 2105, dtype: int64"
      ]
     },
     "execution_count": 13,
     "metadata": {},
     "output_type": "execute_result"
    }
   ],
   "source": [
    "drug_index"
   ]
  },
  {
   "cell_type": "code",
   "execution_count": null,
   "metadata": {},
   "outputs": [],
   "source": []
  }
 ],
 "metadata": {
  "kernelspec": {
   "display_name": "Python 3",
   "language": "python",
   "name": "python3"
  },
  "language_info": {
   "codemirror_mode": {
    "name": "ipython",
    "version": 3
   },
   "file_extension": ".py",
   "mimetype": "text/x-python",
   "name": "python",
   "nbconvert_exporter": "python",
   "pygments_lexer": "ipython3",
   "version": "3.7.3"
  }
 },
 "nbformat": 4,
 "nbformat_minor": 2
}
