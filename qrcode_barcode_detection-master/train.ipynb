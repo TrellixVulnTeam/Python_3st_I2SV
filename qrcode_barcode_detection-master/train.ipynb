{
 "cells": [
  {
   "cell_type": "code",
   "execution_count": 1,
   "metadata": {},
   "outputs": [
    {
     "name": "stderr",
     "output_type": "stream",
     "text": [
      "Using TensorFlow backend.\n"
     ]
    }
   ],
   "source": [
    "import cv2, os, glob\n",
    "import numpy as np\n",
    "import matplotlib.pyplot as plt\n",
    "from keras.layers import Conv2D, Input, Activation\n",
    "from keras.models import Model\n",
    "from keras.callbacks import ModelCheckpoint\n",
    "from skimage.transform import pyramid_expand\n",
    "from Subpixel import Subpixel\n",
    "from DataGenerator import DataGenerator"
   ]
  },
  {
   "cell_type": "code",
   "execution_count": 3,
   "metadata": {
    "scrolled": false
   },
   "outputs": [
    {
     "name": "stdout",
     "output_type": "stream",
     "text": [
      "162770 19867\n",
      "/mnt/sda1/celeba-dataset/processed/x_train/000001.npy\n"
     ]
    }
   ],
   "source": [
    "base_path = '/mnt/sda1/celeba-dataset/processed'\n",
    "\n",
    "x_train_list = sorted(glob.glob(os.path.join(base_path, 'x_train', '*.npy')))\n",
    "x_val_list = sorted(glob.glob(os.path.join(base_path, 'x_val', '*.npy')))\n",
    "\n",
    "print(len(x_train_list), len(x_val_list))\n",
    "print(x_train_list[0])"
   ]
  },
  {
   "cell_type": "code",
   "execution_count": 4,
   "metadata": {},
   "outputs": [
    {
     "name": "stdout",
     "output_type": "stream",
     "text": [
      "(44, 44, 3) (44, 44, 3)\n"
     ]
    },
    {
     "data": {
      "text/plain": [
       "<matplotlib.image.AxesImage at 0x7f3fc32b79e8>"
      ]
     },
     "execution_count": 4,
     "metadata": {},
     "output_type": "execute_result"
    },
    {
     "data": {
      "image/png": "[encoded data removed]",
      "text/plain": [
       "<matplotlib.figure.Figure at 0x7f3fc328ad68>"
      ]
     },
     "metadata": {
      "needs_background": "light"
     },
     "output_type": "display_data"
    }
   ],
   "source": [
    "x1 = np.load(x_train_list[0])\n",
    "x2 = np.load(x_val_list[0])\n",
    "\n",
    "print(x1.shape, x2.shape)\n",
    "\n",
    "plt.subplot(1, 2, 1)\n",
    "plt.imshow(x1)\n",
    "plt.subplot(1, 2, 2)\n",
    "plt.imshow(x2)"
   ]
  },
  {
   "cell_type": "code",
   "execution_count": 5,
   "metadata": {},
   "outputs": [],
   "source": [
    "train_gen = DataGenerator(list_IDs=x_train_list, labels=None, batch_size=16, dim=(44,44), n_channels=3, n_classes=None, shuffle=True)\n",
    "\n",
    "val_gen = DataGenerator(list_IDs=x_val_list, labels=None, batch_size=16, dim=(44,44), n_channels=3, n_classes=None, shuffle=False)"
   ]
  },
  {
   "cell_type": "code",
   "execution_count": 6,
   "metadata": {},
   "outputs": [
    {
     "name": "stdout",
     "output_type": "stream",
     "text": [
      "_________________________________________________________________\n",
      "Layer (type)                 Output Shape              Param #   \n",
      "=================================================================\n",
      "input_1 (InputLayer)         (None, 44, 44, 3)         0         \n",
      "_________________________________________________________________\n",
      "conv2d_1 (Conv2D)            (None, 44, 44, 64)        4864      \n",
      "_________________________________________________________________\n",
      "conv2d_2 (Conv2D)            (None, 44, 44, 64)        36928     \n",
      "_________________________________________________________________\n",
      "conv2d_3 (Conv2D)            (None, 44, 44, 32)        18464     \n",
      "_________________________________________________________________\n",
      "conv2d_4 (Conv2D)            (None, 44, 44, 16)        4624      \n",
      "_________________________________________________________________\n",
      "subpixel_1 (Subpixel)        (None, 176, 176, 3)       6960      \n",
      "_________________________________________________________________\n",
      "activation_1 (Activation)    (None, 176, 176, 3)       0         \n",
      "=================================================================\n",
      "Total params: 71,840\n",
      "Trainable params: 71,840\n",
      "Non-trainable params: 0\n",
      "_________________________________________________________________\n"
     ]
    }
   ],
   "source": [
    "upscale_factor = 4\n",
    "\n",
    "inputs = Input(shape=(44, 44, 3))\n",
    "\n",
    "net = Conv2D(filters=64, kernel_size=5, strides=1, padding='same', activation='relu')(inputs)\n",
    "net = Conv2D(filters=64, kernel_size=3, strides=1, padding='same', activation='relu')(net)\n",
    "net = Conv2D(filters=32, kernel_size=3, strides=1, padding='same', activation='relu')(net)\n",
    "net = Conv2D(filters=upscale_factor**2, kernel_size=3, strides=1, padding='same', activation='relu')(net)\n",
    "net = Subpixel(filters=3, kernel_size=3, r=upscale_factor, padding='same')(net)\n",
    "outputs = Activation('relu')(net)\n",
    "\n",
    "model = Model(inputs=inputs, outputs=outputs)\n",
    "\n",
    "model.compile(optimizer='adam', loss='mse')\n",
    "\n",
    "model.summary()"
   ]
  },
  {
   "cell_type": "code",
   "execution_count": 7,
   "metadata": {
    "scrolled": false
   },
   "outputs": [
    {
     "name": "stdout",
     "output_type": "stream",
     "text": [
      "Epoch 1/10\n",
      "10173/10173 [==============================] - 4635s 456ms/step - loss: 0.0024 - val_loss: 0.0018\n",
      "\n",
      "Epoch 00001: val_loss improved from inf to 0.00177, saving model to models/model.h5\n",
      "Epoch 2/10\n",
      "10173/10173 [==============================] - 4449s 437ms/step - loss: 0.0015 - val_loss: 0.0014\n",
      "\n",
      "Epoch 00002: val_loss improved from 0.00177 to 0.00138, saving model to models/model.h5\n",
      "Epoch 3/10\n",
      "10173/10173 [==============================] - 4438s 436ms/step - loss: 0.0014 - val_loss: 0.0013\n",
      "\n",
      "Epoch 00003: val_loss improved from 0.00138 to 0.00134, saving model to models/model.h5\n",
      "Epoch 4/10\n",
      "10173/10173 [==============================] - 4447s 437ms/step - loss: 0.0014 - val_loss: 0.0013\n",
      "\n",
      "Epoch 00004: val_loss improved from 0.00134 to 0.00133, saving model to models/model.h5\n",
      "Epoch 5/10\n",
      "10173/10173 [==============================] - 4444s 437ms/step - loss: 0.0014 - val_loss: 0.0013\n",
      "\n",
      "Epoch 00005: val_loss improved from 0.00133 to 0.00133, saving model to models/model.h5\n",
      "Epoch 6/10\n",
      "10173/10173 [==============================] - 4446s 437ms/step - loss: 0.0013 - val_loss: 0.0013\n",
      "\n",
      "Epoch 00006: val_loss improved from 0.00133 to 0.00131, saving model to models/model.h5\n",
      "Epoch 7/10\n",
      "10173/10173 [==============================] - 4438s 436ms/step - loss: 0.0013 - val_loss: 0.0013\n",
      "\n",
      "Epoch 00007: val_loss did not improve from 0.00131\n",
      "Epoch 8/10\n",
      "10173/10173 [==============================] - 4452s 438ms/step - loss: 0.0013 - val_loss: 0.0014\n",
      "\n",
      "Epoch 00008: val_loss did not improve from 0.00131\n",
      "Epoch 9/10\n",
      "10173/10173 [==============================] - 4444s 437ms/step - loss: 0.0013 - val_loss: 0.0013\n",
      "\n",
      "Epoch 00009: val_loss improved from 0.00131 to 0.00129, saving model to models/model.h5\n",
      "Epoch 10/10\n",
      "10173/10173 [==============================] - 4452s 438ms/step - loss: 0.0013 - val_loss: 0.0014\n",
      "\n",
      "Epoch 00010: val_loss did not improve from 0.00129\n"
     ]
    }
   ],
   "source": [
    "history = model.fit_generator(train_gen, validation_data=val_gen, epochs=10, verbose=1, callbacks=[\n",
    "    ModelCheckpoint('models/model.h5', monitor='val_loss', verbose=1, save_best_only=True)\n",
    "])"
   ]
  },
  {
   "cell_type": "code",
   "execution_count": 5,
   "metadata": {},
   "outputs": [
    {
     "ename": "NameError",
     "evalue": "name 'base_path' is not defined",
     "output_type": "error",
     "traceback": [
      "\u001b[1;31m---------------------------------------------------------------------------\u001b[0m",
      "\u001b[1;31mNameError\u001b[0m                                 Traceback (most recent call last)",
      "\u001b[1;32m<ipython-input-5-37a13211c5d8>\u001b[0m in \u001b[0;36m<module>\u001b[1;34m\u001b[0m\n\u001b[1;32m----> 1\u001b[1;33m \u001b[0mx_test_list\u001b[0m \u001b[1;33m=\u001b[0m \u001b[0msorted\u001b[0m\u001b[1;33m(\u001b[0m\u001b[0mglob\u001b[0m\u001b[1;33m.\u001b[0m\u001b[0mglob\u001b[0m\u001b[1;33m(\u001b[0m\u001b[0mos\u001b[0m\u001b[1;33m.\u001b[0m\u001b[0mpath\u001b[0m\u001b[1;33m.\u001b[0m\u001b[0mjoin\u001b[0m\u001b[1;33m(\u001b[0m\u001b[0mbase_path\u001b[0m\u001b[1;33m,\u001b[0m \u001b[1;34m'x_test'\u001b[0m\u001b[1;33m,\u001b[0m \u001b[1;34m'*.npy'\u001b[0m\u001b[1;33m)\u001b[0m\u001b[1;33m)\u001b[0m\u001b[1;33m)\u001b[0m\u001b[1;33m\u001b[0m\u001b[1;33m\u001b[0m\u001b[0m\n\u001b[0m\u001b[0;32m      2\u001b[0m \u001b[0my_test_list\u001b[0m \u001b[1;33m=\u001b[0m \u001b[0msorted\u001b[0m\u001b[1;33m(\u001b[0m\u001b[0mglob\u001b[0m\u001b[1;33m.\u001b[0m\u001b[0mglob\u001b[0m\u001b[1;33m(\u001b[0m\u001b[0mos\u001b[0m\u001b[1;33m.\u001b[0m\u001b[0mpath\u001b[0m\u001b[1;33m.\u001b[0m\u001b[0mjoin\u001b[0m\u001b[1;33m(\u001b[0m\u001b[0mbase_path\u001b[0m\u001b[1;33m,\u001b[0m \u001b[1;34m'y_test'\u001b[0m\u001b[1;33m,\u001b[0m \u001b[1;34m'*.npy'\u001b[0m\u001b[1;33m)\u001b[0m\u001b[1;33m)\u001b[0m\u001b[1;33m)\u001b[0m\u001b[1;33m\u001b[0m\u001b[1;33m\u001b[0m\u001b[0m\n\u001b[0;32m      3\u001b[0m \u001b[1;33m\u001b[0m\u001b[0m\n\u001b[0;32m      4\u001b[0m \u001b[0mprint\u001b[0m\u001b[1;33m(\u001b[0m\u001b[0mlen\u001b[0m\u001b[1;33m(\u001b[0m\u001b[0mx_test_list\u001b[0m\u001b[1;33m)\u001b[0m\u001b[1;33m,\u001b[0m \u001b[0mlen\u001b[0m\u001b[1;33m(\u001b[0m\u001b[0my_test_list\u001b[0m\u001b[1;33m)\u001b[0m\u001b[1;33m)\u001b[0m\u001b[1;33m\u001b[0m\u001b[1;33m\u001b[0m\u001b[0m\n\u001b[0;32m      5\u001b[0m \u001b[0mprint\u001b[0m\u001b[1;33m(\u001b[0m\u001b[0mx_test_list\u001b[0m\u001b[1;33m[\u001b[0m\u001b[1;36m0\u001b[0m\u001b[1;33m]\u001b[0m\u001b[1;33m)\u001b[0m\u001b[1;33m\u001b[0m\u001b[1;33m\u001b[0m\u001b[0m\n",
      "\u001b[1;31mNameError\u001b[0m: name 'base_path' is not defined"
     ]
    }
   ],
   "source": [
    "x_test_list = sorted(glob.glob(os.path.join(base_path, 'x_test', '*.npy')))\n",
    "y_test_list = sorted(glob.glob(os.path.join(base_path, 'y_test', '*.npy')))\n",
    "\n",
    "print(len(x_test_list), len(y_test_list))\n",
    "print(x_test_list[0])"
   ]
  },
  {
   "cell_type": "code",
   "execution_count": 4,
   "metadata": {},
   "outputs": [
    {
     "ename": "OSError",
     "evalue": "Failed to interpret file 'img/81730.jpg' as a pickle",
     "output_type": "error",
     "traceback": [
      "\u001b[1;31m---------------------------------------------------------------------------\u001b[0m",
      "\u001b[1;31mUnpicklingError\u001b[0m                           Traceback (most recent call last)",
      "\u001b[1;32m~\\Anaconda3\\lib\\site-packages\\numpy\\lib\\npyio.py\u001b[0m in \u001b[0;36mload\u001b[1;34m(file, mmap_mode, allow_pickle, fix_imports, encoding)\u001b[0m\n\u001b[0;32m    446\u001b[0m             \u001b[1;32mtry\u001b[0m\u001b[1;33m:\u001b[0m\u001b[1;33m\u001b[0m\u001b[1;33m\u001b[0m\u001b[0m\n\u001b[1;32m--> 447\u001b[1;33m                 \u001b[1;32mreturn\u001b[0m \u001b[0mpickle\u001b[0m\u001b[1;33m.\u001b[0m\u001b[0mload\u001b[0m\u001b[1;33m(\u001b[0m\u001b[0mfid\u001b[0m\u001b[1;33m,\u001b[0m \u001b[1;33m**\u001b[0m\u001b[0mpickle_kwargs\u001b[0m\u001b[1;33m)\u001b[0m\u001b[1;33m\u001b[0m\u001b[1;33m\u001b[0m\u001b[0m\n\u001b[0m\u001b[0;32m    448\u001b[0m             \u001b[1;32mexcept\u001b[0m \u001b[0mException\u001b[0m\u001b[1;33m:\u001b[0m\u001b[1;33m\u001b[0m\u001b[1;33m\u001b[0m\u001b[0m\n",
      "\u001b[1;31mUnpicklingError\u001b[0m: invalid load key, '\\xff'.",
      "\nDuring handling of the above exception, another exception occurred:\n",
      "\u001b[1;31mOSError\u001b[0m                                   Traceback (most recent call last)",
      "\u001b[1;32m<ipython-input-4-4defffe64116>\u001b[0m in \u001b[0;36m<module>\u001b[1;34m\u001b[0m\n\u001b[0;32m      1\u001b[0m \u001b[0mtest_idx\u001b[0m \u001b[1;33m=\u001b[0m \u001b[1;36m21\u001b[0m\u001b[1;33m\u001b[0m\u001b[1;33m\u001b[0m\u001b[0m\n\u001b[0;32m      2\u001b[0m \u001b[1;33m\u001b[0m\u001b[0m\n\u001b[1;32m----> 3\u001b[1;33m \u001b[0mx1_test\u001b[0m \u001b[1;33m=\u001b[0m \u001b[0mnp\u001b[0m\u001b[1;33m.\u001b[0m\u001b[0mload\u001b[0m\u001b[1;33m(\u001b[0m\u001b[1;34m'img/81730.jpg'\u001b[0m\u001b[1;33m)\u001b[0m\u001b[1;33m\u001b[0m\u001b[1;33m\u001b[0m\u001b[0m\n\u001b[0m\u001b[0;32m      4\u001b[0m \u001b[0mx1_test_resized\u001b[0m \u001b[1;33m=\u001b[0m \u001b[0mpyramid_expand\u001b[0m\u001b[1;33m(\u001b[0m\u001b[0mx1_test\u001b[0m\u001b[1;33m,\u001b[0m \u001b[1;36m4\u001b[0m\u001b[1;33m)\u001b[0m\u001b[1;33m\u001b[0m\u001b[1;33m\u001b[0m\u001b[0m\n\u001b[0;32m      5\u001b[0m \u001b[0my1_test\u001b[0m \u001b[1;33m=\u001b[0m \u001b[0mnp\u001b[0m\u001b[1;33m.\u001b[0m\u001b[0mload\u001b[0m\u001b[1;33m(\u001b[0m\u001b[0my_test_list\u001b[0m\u001b[1;33m[\u001b[0m\u001b[0mtest_idx\u001b[0m\u001b[1;33m]\u001b[0m\u001b[1;33m)\u001b[0m\u001b[1;33m\u001b[0m\u001b[1;33m\u001b[0m\u001b[0m\n",
      "\u001b[1;32m~\\Anaconda3\\lib\\site-packages\\numpy\\lib\\npyio.py\u001b[0m in \u001b[0;36mload\u001b[1;34m(file, mmap_mode, allow_pickle, fix_imports, encoding)\u001b[0m\n\u001b[0;32m    448\u001b[0m             \u001b[1;32mexcept\u001b[0m \u001b[0mException\u001b[0m\u001b[1;33m:\u001b[0m\u001b[1;33m\u001b[0m\u001b[1;33m\u001b[0m\u001b[0m\n\u001b[0;32m    449\u001b[0m                 raise IOError(\n\u001b[1;32m--> 450\u001b[1;33m                     \"Failed to interpret file %s as a pickle\" % repr(file))\n\u001b[0m\u001b[0;32m    451\u001b[0m     \u001b[1;32mfinally\u001b[0m\u001b[1;33m:\u001b[0m\u001b[1;33m\u001b[0m\u001b[1;33m\u001b[0m\u001b[0m\n\u001b[0;32m    452\u001b[0m         \u001b[1;32mif\u001b[0m \u001b[0mown_fid\u001b[0m\u001b[1;33m:\u001b[0m\u001b[1;33m\u001b[0m\u001b[1;33m\u001b[0m\u001b[0m\n",
      "\u001b[1;31mOSError\u001b[0m: Failed to interpret file 'img/81730.jpg' as a pickle"
     ]
    }
   ],
   "source": [
    "test_idx = 21\n",
    "\n",
    "x1_test = np.load(x_test_list[test_idx])\n",
    "x1_test_resized = pyramid_expand(x1_test, 4)\n",
    "y1_test = np.load(y_test_list[test_idx])\n",
    "y_pred = model.predict(x1_test.reshape((1, 44, 44, 3)))\n",
    "\n",
    "print(x1_test.shape, y1_test.shape)\n",
    "\n",
    "x1_test = (x1_test * 255).astype(np.uint8)\n",
    "x1_test_resized = (x1_test_resized * 255).astype(np.uint8)\n",
    "y1_test = (y1_test * 255).astype(np.uint8)\n",
    "y_pred = np.clip(y_pred.reshape((176, 176, 3)), 0, 1)\n",
    "\n",
    "x1_test = cv2.cvtColor(x1_test, cv2.COLOR_BGR2RGB)\n",
    "x1_test_resized = cv2.cvtColor(x1_test_resized, cv2.COLOR_BGR2RGB)\n",
    "y1_test = cv2.cvtColor(y1_test, cv2.COLOR_BGR2RGB)\n",
    "y_pred = cv2.cvtColor(y_pred, cv2.COLOR_BGR2RGB)\n",
    "\n",
    "plt.figure(figsize=(15, 10))\n",
    "plt.subplot(1, 4, 1)\n",
    "plt.title('input')\n",
    "plt.imshow(x1_test)\n",
    "plt.subplot(1, 4, 2)\n",
    "plt.title('resized')\n",
    "plt.imshow(x1_test_resized)\n",
    "plt.subplot(1, 4, 3)\n",
    "plt.title('output')\n",
    "plt.imshow(y_pred)\n",
    "plt.subplot(1, 4, 4)\n",
    "plt.title('groundtruth')\n",
    "plt.imshow(y1_test)"
   ]
  },
  {
   "cell_type": "code",
   "execution_count": null,
   "metadata": {},
   "outputs": [],
   "source": []
  }
 ],
 "metadata": {
  "kernelspec": {
   "display_name": "Python 3",
   "language": "python",
   "name": "python3"
  },
  "language_info": {
   "codemirror_mode": {
    "name": "ipython",
    "version": 3
   },
   "file_extension": ".py",
   "mimetype": "text/x-python",
   "name": "python",
   "nbconvert_exporter": "python",
   "pygments_lexer": "ipython3",
   "version": "3.7.3"
  }
 },
 "nbformat": 4,
 "nbformat_minor": 2
}
